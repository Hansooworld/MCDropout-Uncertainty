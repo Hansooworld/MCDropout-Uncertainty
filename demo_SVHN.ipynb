{
 "cells": [
  {
   "cell_type": "code",
   "execution_count": 1,
   "metadata": {},
   "outputs": [
    {
     "name": "stdout",
     "output_type": "stream",
     "text": [
      "Data shape :  (32, 32, 3, 73257)\n",
      "Data type :  <class 'numpy.ndarray'>\n"
     ]
    },
    {
     "data": {
      "image/png": "[encoded data removed]",
      "text/plain": [
       "<Figure size 432x288 with 1 Axes>"
      ]
     },
     "metadata": {
      "needs_background": "light"
     },
     "output_type": "display_data"
    },
    {
     "name": "stdout",
     "output_type": "stream",
     "text": [
      "Label :  [4]\n"
     ]
    }
   ],
   "source": [
    "import numpy as np\n",
    "import scipy.io as sio\n",
    "import matplotlib.pyplot as plt\n",
    "# %matplotlib inline\n",
    "\n",
    "train_data = sio.loadmat('./data/train_32x32.mat')\n",
    "test_data = sio.loadmat('./data/test_32x32.mat')\n",
    "\n",
    "x_train = train_data['X']\n",
    "y_train = train_data['y']\n",
    "\n",
    "print(\"Data shape : \",x_train.shape)\n",
    "print(\"Data type : \",type(x_train))\n",
    "\n",
    "# show sample\n",
    "sample_idx = np.random.randint(70000)\n",
    "plt.imshow(x_train[:,:,:,sample_idx])\n",
    "plt.show()\n",
    "print(\"Label : \",y_train[sample_idx])"
   ]
  }
 ],
 "metadata": {
  "interpreter": {
   "hash": "a336408ed5cf483d0b6697114c3c65340b20f5cdc6d74b72c0de63404a47289a"
  },
  "kernelspec": {
   "display_name": "Python 3.9.7 ('rl')",
   "language": "python",
   "name": "python3"
  },
  "language_info": {
   "codemirror_mode": {
    "name": "ipython",
    "version": 3
   },
   "file_extension": ".py",
   "mimetype": "text/x-python",
   "name": "python",
   "nbconvert_exporter": "python",
   "pygments_lexer": "ipython3",
   "version": "3.9.7"
  },
  "orig_nbformat": 4
 },
 "nbformat": 4,
 "nbformat_minor": 2
}
